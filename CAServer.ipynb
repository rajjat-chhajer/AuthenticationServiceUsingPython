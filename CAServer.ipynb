{
 "cells": [
  {
   "cell_type": "code",
   "execution_count": 2,
   "id": "4cf99c15",
   "metadata": {},
   "outputs": [
    {
     "name": "stdout",
     "output_type": "stream",
     "text": [
      "CA PublicKey \t: \t\n",
      "(b'\\x80\\x04\\x95g\\x00\\x00\\x00\\x00\\x00\\x00\\x00\\x8c\\x07rsa.key\\x94\\x8c\\tPublicKey'\n",
      " b'\\x94\\x93\\x94)\\x81\\x94\\x8aA\\xa7\\x8dO\\xb6\\xdb\\xd8\\x18\\xa8F{m\\x9b\\x80\\x1c\\xb4/'\n",
      " b'\\x0e\\xa6\\xfe\\xd7:\\xe3\\xb1\\xa6*T\\xff\\xbe\\xac8\\xfbi0\\x188p3\\x84\\xa7\\xe3'\n",
      " b'B\\x9a2\\xaf\\x17\\xce\\xddc\"\\x01\\xfe\\x81\\x8cF?\\xb7\\xc4,>b\\x0bo8\\x9b\\x00J\\x01\\x00'\n",
      " b'\\x01\\x00\\x86\\x94b.')\n",
      "\n",
      "\n",
      "Received Request \t: \t \n",
      "{'pubKey': PublicKey(8864704452783227868082504433880539570255546697015374275141098798352403374490262958670323302517338864779725802506167754988369160621985107194814481680229183, 65537),\n",
      " 'req': 2,\n",
      " 'role': 2,\n",
      " 'subName': 'Tester'}\n",
      "\n",
      "\n",
      "Response \t: \t \n",
      "{'ext': 2,\n",
      " 'i_n': 'CA',\n",
      " 's_PK': PublicKey(8864704452783227868082504433880539570255546697015374275141098798352403374490262958670323302517338864779725802506167754988369160621985107194814481680229183, 65537),\n",
      " 's_n': 'Tester',\n",
      " 's_no': 103,\n",
      " 'sa_id': 'SHA-256',\n",
      " 'sig': b'\\x82\\x8dy\\x15\\xcf\\r\\x00;\\xc0;\\tb\\xb9lY7\\x0c\\xd4\\x96y\\t\\x83\\xc9\\x81'\n",
      "        b'\\xb2\\xdc\\xff\\x90=\\x7fZ\\x02\\xdb\\xf1\\x94*\\xe8\\xd9\\xbe\\xad;]m\"'\n",
      "        b'\\x98\\x1c\\xacx\\xb7kK?-\\x02\\xeda\\xf0\\xe6\\xf0l3^d\\x07',\n",
      " 'v_no': 'x.509',\n",
      " 'v_start': datetime.datetime(2024, 1, 24, 8, 35, 46, 313172),\n",
      " 'v_stop': datetime.datetime(2025, 1, 23, 8, 35, 46, 313172)}\n",
      "\n",
      "\n",
      "________________________________________________________________________________\n",
      "\n",
      "\n",
      "CA PublicKey \t: \t\n",
      "(b'\\x80\\x04\\x95g\\x00\\x00\\x00\\x00\\x00\\x00\\x00\\x8c\\x07rsa.key\\x94\\x8c\\tPublicKey'\n",
      " b'\\x94\\x93\\x94)\\x81\\x94\\x8aA\\xa7\\x8dO\\xb6\\xdb\\xd8\\x18\\xa8F{m\\x9b\\x80\\x1c\\xb4/'\n",
      " b'\\x0e\\xa6\\xfe\\xd7:\\xe3\\xb1\\xa6*T\\xff\\xbe\\xac8\\xfbi0\\x188p3\\x84\\xa7\\xe3'\n",
      " b'B\\x9a2\\xaf\\x17\\xce\\xddc\"\\x01\\xfe\\x81\\x8cF?\\xb7\\xc4,>b\\x0bo8\\x9b\\x00J\\x01\\x00'\n",
      " b'\\x01\\x00\\x86\\x94b.')\n",
      "\n",
      "\n",
      "Received Request \t: \t \n",
      "{'pubKey': PublicKey(10326326045385943445745290973971961566914830383247047263431857376313222944649211044523344510520241458005746716056222654358429002984766983311945099984075217, 65537),\n",
      " 'req': 2,\n",
      " 'role': 4,\n",
      " 'subName': 'ECU1'}\n",
      "\n",
      "\n",
      "Response \t: \t \n",
      "{'ext': 4,\n",
      " 'i_n': 'CA',\n",
      " 's_PK': PublicKey(10326326045385943445745290973971961566914830383247047263431857376313222944649211044523344510520241458005746716056222654358429002984766983311945099984075217, 65537),\n",
      " 's_n': 'ECU1',\n",
      " 's_no': 104,\n",
      " 'sa_id': 'SHA-256',\n",
      " 'sig': b'2U\\xffH\\xcf\\xbc~o{#\\x15\\x11\\xff\\xa7\\x9c\\x1f\\xb4V\\xa5\\x8c'\n",
      "        b'\\xb6\\xb6\\xd9\\xe4[$\\x9f{\\x8c_\\xda\\x1c.h\\x0cD\\xe3\\n_\\x1b\\xdcD\\x99G'\n",
      "        b'\\x01\\xa0\\x81\\xb1\\x84>\\x00\\x03\\xe2\\xde\\xf9;\\x83\\x1e\\x96=]\\x18\\x13z',\n",
      " 'v_no': 'x.509',\n",
      " 'v_start': datetime.datetime(2024, 1, 24, 8, 36, 13, 423087),\n",
      " 'v_stop': datetime.datetime(2025, 1, 23, 8, 36, 13, 423087)}\n",
      "\n",
      "\n",
      "________________________________________________________________________________\n",
      "\n",
      "\n"
     ]
    }
   ],
   "source": [
    "import import_ipynb\n",
    "import pprint\n",
    "import CA as CA\n",
    "import socket\n",
    "import pickle\n",
    "serv = socket.socket(socket.AF_INET, socket.SOCK_STREAM)\n",
    "serv.bind(('127.0.0.7', 8080))\n",
    "serv.listen(5)\n",
    "a=0\n",
    "b =0\n",
    "while a<2:\n",
    "  b= 0\n",
    "  conn, addr = serv.accept()\n",
    "  from_client = ''\n",
    "  while b==0:\n",
    "    data = conn.recv(4096)\n",
    "    if not data: break\n",
    "#     from_client = data.decode('utf8')\n",
    "    from_client = pickle.loads(data)\n",
    "    if from_client['req'] == 1: # for requesting CA's Public Key\n",
    "        data = pickle.dumps(CA.CAPubKey)\n",
    "        print(\"CA PublicKey \\t: \\t\")\n",
    "        pprint.pprint(data)\n",
    "        print(\"\\n\")\n",
    "        conn.send(data)\n",
    "        data = conn.recv(4096)\n",
    "        from_client = pickle.loads(data)\n",
    "        print(\"Received Request \\t: \\t \" )\n",
    "        pprint.pprint(from_client)\n",
    "        print(\"\\n\")\n",
    "    if from_client['req'] == 2: # for certificate generation and transmission\n",
    "        data = CA.certificate(from_client['subName'], from_client['pubKey'], from_client['role']).transmitCertificate()\n",
    "        print(\"Response \\t: \\t \" )\n",
    "        pprint.pprint(data)\n",
    "        print(\"\\n\")\n",
    "        data = pickle.dumps(data)\n",
    "#         print(data)\n",
    "        conn.send(data)\n",
    "    b=1\n",
    "  a = a +1  \n",
    "  conn.close()\n",
    "  print(\"________________________________________________________________________________\")\n",
    "  print('\\n')"
   ]
  },
  {
   "cell_type": "code",
   "execution_count": 2,
   "id": "41cfd5f3",
   "metadata": {},
   "outputs": [
    {
     "name": "stdout",
     "output_type": "stream",
     "text": [
      "PublicKey(8700655261975703516356641632874092118380728990315040686588297977917619290201599251834887782634626617341716240893494855052212467324149814514155519073590549, 65537)\n",
      "\n"
     ]
    }
   ],
   "source": [
    "print(CA.CAPubKey)\n",
    "print()"
   ]
  },
  {
   "cell_type": "code",
   "execution_count": null,
   "id": "063858b0",
   "metadata": {},
   "outputs": [],
   "source": [
    "# class certificate :\n",
    "#     version_No = ''\n",
    "#     serial_No = 0\n",
    "#     signatureAlgorithmID= ''\n",
    "#     issuerName = ''\n",
    "#     periodOfValidityStart = ''\n",
    "#     periodOfValidityStop = ''\n",
    "#     subjectName=''\n",
    "#     subjectPublicKey = ''\n",
    "#     extension=0\n",
    "#     signature= ''\n",
    "#     def dict2cert(self,certData):\n",
    "#         self.version_No = certData[\"v_no\"]\n",
    "#         self.serial_No = certData[\"s_no\"]\n",
    "#         self.signatureAlgorithmID = certData[\"sa_id\"]\n",
    "#         self.issuerName = certData[\"i_n\"]\n",
    "#         self.periodOfValidityStart= certData[\"v_start\"]\n",
    "#         self.periodOfValidityStop = certData[\"v_stop\"]\n",
    "#         self.subjectName = certData[\"s_n\"]\n",
    "#         self.subjectPublicKey = certData[\"s_PK\"]\n",
    "#         self.extension = certData[\"ext\"]\n",
    "#         self.signature = certData[\"sig\"]"
   ]
  },
  {
   "cell_type": "code",
   "execution_count": 3,
   "id": "a77c0437",
   "metadata": {},
   "outputs": [
    {
     "name": "stdout",
     "output_type": "stream",
     "text": [
      "101\n"
     ]
    }
   ],
   "source": [
    "# import socket\n",
    "# import pickle\n",
    "# serv = socket.socket(socket.AF_INET, socket.SOCK_STREAM)\n",
    "# serv.bind(('0.0.0.0', 8080))\n",
    "# serv.listen(5)\n",
    "# a=0\n",
    "# b =0\n",
    "# while a==0:\n",
    "#   conn, addr = serv.accept()\n",
    "#   from_client = ''\n",
    "#   step = 0\n",
    "#   while b==0:\n",
    "#     data = conn.recv(4096)\n",
    "#     if not data: break\n",
    "# #     from_client = data.decode('utf8')\n",
    "#     from_client = pickle.loads(data)\n",
    "#     print (from_client['s_no'])\n",
    "#     a,b=1,1\n",
    "    \n",
    "#   conn.close()"
   ]
  },
  {
   "cell_type": "code",
   "execution_count": null,
   "id": "f71f5d8f",
   "metadata": {},
   "outputs": [],
   "source": []
  },
  {
   "cell_type": "code",
   "execution_count": null,
   "id": "8a80fec2",
   "metadata": {},
   "outputs": [],
   "source": []
  }
 ],
 "metadata": {
  "kernelspec": {
   "display_name": "Python 3 (ipykernel)",
   "language": "python",
   "name": "python3"
  },
  "language_info": {
   "codemirror_mode": {
    "name": "ipython",
    "version": 3
   },
   "file_extension": ".py",
   "mimetype": "text/x-python",
   "name": "python",
   "nbconvert_exporter": "python",
   "pygments_lexer": "ipython3",
   "version": "3.9.7"
  }
 },
 "nbformat": 4,
 "nbformat_minor": 5
}
